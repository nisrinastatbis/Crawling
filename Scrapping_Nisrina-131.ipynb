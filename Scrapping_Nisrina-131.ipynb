{
 "cells": [
  {
   "cell_type": "code",
   "execution_count": 96,
   "id": "1e3e35be",
   "metadata": {},
   "outputs": [],
   "source": [
    "import requests\n",
    "from bs4 import BeautifulSoup\n",
    "import pandas as pd"
   ]
  },
  {
   "cell_type": "code",
   "execution_count": 97,
   "id": "8d1c6893",
   "metadata": {},
   "outputs": [],
   "source": [
    "url = \"https://en.wikipedia.org/wiki/List_of_Indonesians_by_net_worth\"\n",
    "response = requests.get(url)"
   ]
  },
  {
   "cell_type": "code",
   "execution_count": 98,
   "id": "f9a88d68",
   "metadata": {},
   "outputs": [],
   "source": [
    "soup = BeautifulSoup(response.content, \"html.parser\")"
   ]
  },
  {
   "cell_type": "code",
   "execution_count": 99,
   "id": "1db0f20e",
   "metadata": {},
   "outputs": [],
   "source": [
    "table = soup.find(\"table\", class_=\"wikitable\")"
   ]
  },
  {
   "cell_type": "code",
   "execution_count": 100,
   "id": "42c4cd8e",
   "metadata": {},
   "outputs": [],
   "source": [
    "names = []\n",
    "net_worths = []\n",
    "sources = []\n",
    "for row in table.find_all(\"tr\")[1:]:\n",
    "    columns = row.find_all(\"td\")\n",
    "\n",
    "    name = columns[0].text.strip()\n",
    "    names.append(name)\n",
    "\n",
    "    net_worth = columns[1].text.strip()\n",
    "    net_worths.append(net_worth)\n",
    "\n",
    "    source = columns[2].text.strip()\n",
    "    sources.append(source)"
   ]
  },
  {
   "cell_type": "code",
   "execution_count": 101,
   "id": "8ca52110",
   "metadata": {},
   "outputs": [],
   "source": [
    "data = {\n",
    "    \"Name\": names,\n",
    "    \"Net Worth\": net_worths,\n",
    "    \"Source\": sources\n",
    "}"
   ]
  },
  {
   "cell_type": "code",
   "execution_count": 102,
   "id": "2711a169",
   "metadata": {},
   "outputs": [],
   "source": [
    "df = pd.DataFrame(data)"
   ]
  },
  {
   "cell_type": "code",
   "execution_count": 103,
   "id": "f7bf5fd1",
   "metadata": {},
   "outputs": [],
   "source": [
    "df.to_excel(\"indonesians_net_worth.xlsx\", index=False)"
   ]
  },
  {
   "cell_type": "code",
   "execution_count": 65,
   "id": "e5f5a834",
   "metadata": {},
   "outputs": [],
   "source": []
  },
  {
   "cell_type": "code",
   "execution_count": 66,
   "id": "591f6f6c",
   "metadata": {},
   "outputs": [],
   "source": []
  },
  {
   "cell_type": "code",
   "execution_count": 67,
   "id": "f318dee6",
   "metadata": {},
   "outputs": [],
   "source": []
  },
  {
   "cell_type": "code",
   "execution_count": 68,
   "id": "7baf23b8",
   "metadata": {},
   "outputs": [],
   "source": []
  },
  {
   "cell_type": "code",
   "execution_count": 11,
   "id": "7a7b9647",
   "metadata": {},
   "outputs": [],
   "source": []
  },
  {
   "cell_type": "code",
   "execution_count": null,
   "id": "e0de4fa0",
   "metadata": {},
   "outputs": [],
   "source": []
  },
  {
   "cell_type": "code",
   "execution_count": null,
   "id": "84f5ce8b",
   "metadata": {},
   "outputs": [],
   "source": []
  }
 ],
 "metadata": {
  "kernelspec": {
   "display_name": "Python 3 (ipykernel)",
   "language": "python",
   "name": "python3"
  },
  "language_info": {
   "codemirror_mode": {
    "name": "ipython",
    "version": 3
   },
   "file_extension": ".py",
   "mimetype": "text/x-python",
   "name": "python",
   "nbconvert_exporter": "python",
   "pygments_lexer": "ipython3",
   "version": "3.9.12"
  }
 },
 "nbformat": 4,
 "nbformat_minor": 5
}
